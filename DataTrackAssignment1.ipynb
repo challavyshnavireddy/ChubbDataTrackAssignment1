{
  "cells": [
    {
      "cell_type": "code",
      "execution_count": 1,
      "metadata": {
        "colab": {
          "base_uri": "https://localhost:8080/"
        },
        "id": "I173fH_W2HaF",
        "outputId": "75e8e1bd-0cef-4a26-e146-544909682fe9"
      },
      "outputs": [
        {
          "name": "stdout",
          "output_type": "stream",
          "text": [
            "Requirement already satisfied: pandas in /usr/local/lib/python3.10/dist-packages (2.2.2)\n",
            "Requirement already satisfied: numpy>=1.22.4 in /usr/local/lib/python3.10/dist-packages (from pandas) (1.26.4)\n",
            "Requirement already satisfied: python-dateutil>=2.8.2 in /usr/local/lib/python3.10/dist-packages (from pandas) (2.8.2)\n",
            "Requirement already satisfied: pytz>=2020.1 in /usr/local/lib/python3.10/dist-packages (from pandas) (2024.2)\n",
            "Requirement already satisfied: tzdata>=2022.7 in /usr/local/lib/python3.10/dist-packages (from pandas) (2024.2)\n",
            "Requirement already satisfied: six>=1.5 in /usr/local/lib/python3.10/dist-packages (from python-dateutil>=2.8.2->pandas) (1.16.0)\n"
          ]
        }
      ],
      "source": [
        "pip install pandas"
      ]
    },
    {
      "cell_type": "code",
      "execution_count": 3,
      "metadata": {
        "colab": {
          "base_uri": "https://localhost:8080/"
        },
        "id": "zjxQZF3D2SGN",
        "outputId": "cdd5dcc6-90c7-459d-a730-f66731ea18ee"
      },
      "outputs": [
        {
          "name": "stdout",
          "output_type": "stream",
          "text": [
            "       name  score\n",
            "0      Ravi   50.0\n",
            "1      Teja   70.0\n",
            "2     Priya   80.0\n",
            "3     Anjan   40.0\n",
            "4      Yuva   10.0\n",
            "5      Riya   20.0\n",
            "6      urvi   10.0\n",
            "7  prharsha    NaN\n",
            "8       NaN   40.0\n",
            "    name  score\n",
            "0   Ravi   50.0\n",
            "1   Teja   70.0\n",
            "2  Priya   80.0\n",
            "3  Anjan   40.0\n",
            "4   Yuva   10.0\n",
            "5   Riya   20.0\n",
            "6   urvi   10.0\n",
            "average score is : 40.0\n",
            "[('Ravi', 50.0), ('Teja', 70.0), ('Priya', 80.0)]\n",
            "Im finally\n"
          ]
        }
      ],
      "source": [
        "# 1\n",
        "import pandas as pd\n",
        "# handling corrupted file\n",
        "try:\n",
        "  df=pd.read_csv('/content/new.csv')\n",
        "  l=[]\n",
        "  # handling malformed data\n",
        "  print(df)\n",
        "  df.dropna(inplace=True)\n",
        "  print(df)\n",
        "  for i in range(len(df)):\n",
        "    l.append(df.iloc[i,-1])\n",
        "  avg=(sum(l)//len(df))\n",
        "  res=[]\n",
        "  print(\"average score is :\",avg)\n",
        "  for i in range(len(df)):\n",
        "    if df.iloc[i,-1]>avg:\n",
        "      res.append((df.iloc[i,0],df.iloc[i,1]))\n",
        "  print(res)\n",
        "except:\n",
        "  print(\"Some error in accessing file\")\n",
        "finally:\n",
        "  print(\"Im finally\")"
      ]
    },
    {
      "cell_type": "code",
      "execution_count": 4,
      "metadata": {
        "colab": {
          "base_uri": "https://localhost:8080/"
        },
        "id": "WbyoAJ9S2iA5",
        "outputId": "47df10a4-6efc-4214-8f19-b034ab539768"
      },
      "outputs": [
        {
          "name": "stdout",
          "output_type": "stream",
          "text": [
            "cleaned product list is : [100, 101, 102, 108, 109]\n",
            "product list is empty\n"
          ]
        }
      ],
      "source": [
        "# 2\n",
        "def cleanList(prod):\n",
        "  if len(prod):\n",
        "    res=set(prod)\n",
        "    re=list(res)\n",
        "    re.sort()\n",
        "    return f\"cleaned product list is : {re}\"\n",
        "  else:\n",
        "    return \"product list is empty\"\n",
        "prod=[101,102,100,108,109,108,109,101,102]\n",
        "empprod=[]\n",
        "print(cleanList(prod))\n",
        "print(cleanList(empprod))"
      ]
    },
    {
      "cell_type": "code",
      "execution_count": 5,
      "metadata": {
        "colab": {
          "base_uri": "https://localhost:8080/"
        },
        "id": "xj_gk5Dr2kai",
        "outputId": "7ca69f4e-b978-4858-f1eb-1f1080074840"
      },
      "outputs": [
        {
          "name": "stdout",
          "output_type": "stream",
          "text": [
            "Alice spent 200\n",
            "Bob spent 1000\n",
            "Hari spent 800\n",
            "Varma spent 400\n"
          ]
        }
      ],
      "source": [
        "# 3\n",
        "data=[('Alice',200),('Bob',500),('Hari',800),('Varma',400),('Bob',400),('Bob',100),]\n",
        "dataDictionary={}\n",
        "for (name,amountSpent) in data:\n",
        "  if name not in dataDictionary:\n",
        "    dataDictionary[name]=amountSpent\n",
        "  else:\n",
        "    dataDictionary[name]+=amountSpent\n",
        "sortedDataDict=dict(sorted(dataDictionary.items()))\n",
        "for i in sortedDataDict:\n",
        "  print(f\"{i} spent {sortedDataDict[i]}\")"
      ]
    },
    {
      "cell_type": "code",
      "execution_count": 6,
      "metadata": {
        "id": "xqccKuNy2psG"
      },
      "outputs": [],
      "source": [
        "\n",
        "import pickle"
      ]
    },
    {
      "cell_type": "code",
      "execution_count": 16,
      "metadata": {
        "colab": {
          "base_uri": "https://localhost:8080/"
        },
        "id": "LzIQmxoB3CKS",
        "outputId": "b047d18d-742a-4c89-fbd5-7910d48a86d5"
      },
      "outputs": [
        {
          "name": "stdout",
          "output_type": "stream",
          "text": [
            "File saved successfully\n",
            "File loaded successfully\n",
            "[{'name': 'user1', 'theme': 'dark', 'language': 'English', 'notifications': True}, {'name': 'user2', 'theme': 'light', 'language': 'Telugu', 'notifications': False}, {'name': 'user3', 'theme': 'light', 'language': 'English', 'notifications': True}, {'name': 'user4', 'theme': 'dark', 'language': 'Hindi', 'notifications': True}, {'name': 'user5', 'theme': 'dark', 'language': 'Spanish', 'notifications': False}]\n",
            "Im finally\n"
          ]
        }
      ],
      "source": [
        "# 4\n",
        "# userPrefernces=['dark','no',True]\n",
        "userPrefernces=[\n",
        "    {\n",
        "    'name':'user1',\n",
        "    'theme':'dark',\n",
        "    'language':'English',\n",
        "    'notifications':True\n",
        "    },\n",
        "    {\n",
        "    'name':'user2',\n",
        "    'theme':'light',\n",
        "    'language':'Telugu',\n",
        "    'notifications':False\n",
        "    },\n",
        "    {\n",
        "    'name':'user3',\n",
        "    'theme':'light',\n",
        "    'language':'English',\n",
        "    'notifications':True\n",
        "    },\n",
        "    {\n",
        "    'name':'user4',\n",
        "    'theme':'dark',\n",
        "    'language':'Hindi',\n",
        "    'notifications':True\n",
        "    },{\n",
        "    'name':'user5',\n",
        "    'theme':'dark',\n",
        "    'language':'Spanish',\n",
        "    'notifications':False\n",
        "    }\n",
        "]\n",
        "prefFile='preferenes.pkl'\n",
        "try:\n",
        "  with open(prefFile,'wb') as file:\n",
        "    pickle.dump(userPrefernces,file)\n",
        "    print(\"File saved successfully\")\n",
        "  with open(prefFile,'rb') as file:\n",
        "    loadedPref=pickle.load(file)\n",
        "    print(\"File loaded successfully\")\n",
        "  print(loadedPref)\n",
        "except:\n",
        "  print(\"Some error in accessing file\")\n",
        "finally:\n",
        "  print(\"Im finally\")"
      ]
    },
    {
      "cell_type": "code",
      "execution_count": 19,
      "metadata": {
        "colab": {
          "base_uri": "https://localhost:8080/"
        },
        "id": "sv6bZ2mQ5Hod",
        "outputId": "702fcecf-a36f-4107-bb7f-d366d19b38e1"
      },
      "outputs": [
        {
          "name": "stdout",
          "output_type": "stream",
          "text": [
            "  emp_name department   salary\n",
            "0    Alice         IT      NaN\n",
            "1      Bob    Finance  25000.0\n",
            "2  Charlie  Marketing  75000.0\n",
            "3    Diana         HR  10000.0\n",
            "4   Eshwar         HR   5000.0\n",
            "5     Fara         IT  56000.0\n",
            "6  Gayatri      Sales  80000.0\n",
            "7  Hanuman      Sales   7500.0\n",
            "8   Irvana         IT      NaN\n",
            "9    Julee  Marketing  96000.0\n",
            "  emp_name department   salary\n",
            "1      Bob    Finance  25000.0\n",
            "2  Charlie  Marketing  75000.0\n",
            "3    Diana         HR  10000.0\n",
            "4   Eshwar         HR   5000.0\n",
            "5     Fara         IT  56000.0\n",
            "6  Gayatri      Sales  80000.0\n",
            "7  Hanuman      Sales   7500.0\n",
            "9    Julee  Marketing  96000.0\n",
            "  department       sum  size     mean\n",
            "0    Finance   25000.0     1  25000.0\n",
            "1         HR   15000.0     2   7500.0\n",
            "2         IT   56000.0     1  56000.0\n",
            "3  Marketing  171000.0     2  85500.0\n",
            "4      Sales   87500.0     2  43750.0\n"
          ]
        }
      ],
      "source": [
        "#5\n",
        "import pandas as pd\n",
        "try:\n",
        "    df=pd.read_csv('/content/employee.csv')\n",
        "    total=df['salary'].sum()\n",
        "    print(df)\n",
        "    df.dropna(inplace=True)\n",
        "    print(df)\n",
        "    groupedData=df.groupby('department')['salary'].agg(['sum','size','mean'])\n",
        "    groupedData.to_csv('deptSalAvg.csv')\n",
        "    res=pd.read_csv('/content/deptSalAvg.csv')\n",
        "    print(res)\n",
        "except:\n",
        "    print(\"error in accessing file\")"
      ]
    },
    {
      "cell_type": "code",
      "execution_count": 23,
      "metadata": {
        "colab": {
          "base_uri": "https://localhost:8080/"
        },
        "id": "4InVraPl9FjM",
        "outputId": "540304ec-cb60-46fd-bbaa-9930f83e6bfb"
      },
      "outputs": [
        {
          "name": "stdout",
          "output_type": "stream",
          "text": [
            "user1.com is not a valid email\n",
            "prabhath@gmail.com is a valid email\n",
            "21071a12d3@gmail.com is a valid email\n",
            "hariram07@redifmail.in is a valid email\n",
            "invalid email @ gmail. com is not a valid email\n",
            "pravalika,@gmail.com is not a valid email\n",
            "7765@987.com is not a valid email\n"
          ]
        }
      ],
      "source": [
        "# 6\n",
        "import re\n",
        "def checkEmail(email):\n",
        "  pattern='[a-z0-9]@[a-z].[a-z]{2,3}'\n",
        "  if re.findall(pattern,email):\n",
        "    return True\n",
        "  return False\n",
        "signups=['user1.com','prabhath@gmail.com','21071a12d3@gmail.com','hariram07@redifmail.in','invalid email @ gmail. com','pravalika,@gmail.com','7765@987.com']\n",
        "for email in signups:\n",
        "  print(email,end=\" \")\n",
        "  if checkEmail(email):\n",
        "    print(\"is a valid email\")\n",
        "  else:\n",
        "    print(\"is not a valid email\")"
      ]
    },
    {
      "cell_type": "code",
      "execution_count": 26,
      "metadata": {
        "colab": {
          "base_uri": "https://localhost:8080/"
        },
        "id": "QcY8fLHf-BuZ",
        "outputId": "f890484c-9607-4849-d7de-c96d488e5b83"
      },
      "outputs": [
        {
          "name": "stdout",
          "output_type": "stream",
          "text": [
            "100 0.82\n",
            "Converted amount is 82.0\n",
            "-89 9\n",
            "Amount cannot be negative or zero\n",
            "56 0\n",
            "Conversion Rate cannot be zero\n"
          ]
        }
      ],
      "source": [
        "# 7\n",
        "for i in range(3):\n",
        "  try:\n",
        "    amount,rate=map(float,input().split())\n",
        "    if rate==0:\n",
        "      raise ValueError(\"Conversion Rate cannot be zero\")\n",
        "    if amount<=0:\n",
        "      raise ValueError(\"Amount cannot be negative or zero\")\n",
        "    print(f\"Converted amount is {amount*rate}\")\n",
        "  except ValueError as e:\n",
        "    print(e)\n",
        "  except Exception as e:\n",
        "    print(\"Invalid input\")"
      ]
    },
    {
      "cell_type": "code",
      "execution_count": 25,
      "metadata": {
        "colab": {
          "base_uri": "https://localhost:8080/"
        },
        "id": "J71jblxbBZjB",
        "outputId": "ce7cd5bd-57ea-4cf5-8962-b7f0456f40cb"
      },
      "outputs": [
        {
          "name": "stdout",
          "output_type": "stream",
          "text": [
            "             movie        user  rating\n",
            "0        inception        john     9.0\n",
            "1           matrix        laya    10.0\n",
            "2        inception       priya     8.0\n",
            "3        godfather       kavya     0.0\n",
            "4      good doctor       faima     5.0\n",
            "5            aarya      chintu     2.0\n",
            "6       mr perfect     sahithi     1.0\n",
            "7          aarya 2       lasya     4.0\n",
            "8         bahubali     mahitha     9.0\n",
            "9           singam      shekar    10.0\n",
            "10      chatrapati   prabhakar     6.0\n",
            "11           ganga  chandrahas     0.0\n",
            "12        kanchana      divija     3.0\n",
            "13        seemapur    malayaja     2.0\n",
            "14  lapatal ladies     shesham     4.0\n",
            "15     kahmir kaja    preetham     3.0\n",
            "16        bhambole      nayani     3.0\n",
            "[81, 100, 64, 25, 81, 100, 36]\n"
          ]
        }
      ],
      "source": [
        "# 8\n",
        "try:\n",
        "  data=pd.read_csv('/content/movies.csv')\n",
        "  data.fillna(0,inplace=True)\n",
        "  print(data)\n",
        "  ratings=data['rating'].tolist()\n",
        "  goodList=[]\n",
        "  for rating in ratings:\n",
        "    if rating>=5:\n",
        "      goodList.append(int(rating**2))\n",
        "  print(goodList)\n",
        "except:\n",
        "  print(\"Error in accessing the file\")"
      ]
    },
    {
      "cell_type": "code",
      "execution_count": 49,
      "metadata": {
        "colab": {
          "base_uri": "https://localhost:8080/"
        },
        "id": "yMj2Cs20CKKY",
        "outputId": "34c5ad1b-5bf7-4a91-efd0-193f328b1b62"
      },
      "outputs": [
        {
          "name": "stdout",
          "output_type": "stream",
          "text": [
            "I am Vyshali and this is my telephone number (999) 456-7890 \n",
            "\n",
            "I am Ishitha and this is my telephone number 456-786-7790\n",
            "\n",
            "I am Esha and this is my telephone number 0987654321\n",
            "\n",
            "I am Priyanshi and this is my telephone number (983) 556-9890\n",
            "\n",
            "I am Riya and this is my telephone number 783-666-9780\n",
            "\n",
            "I am Sruthi and this is my telephone number (999)456-7890 \n",
            "\n",
            "I am Ishanvi and this is my telephone number 45686-7790\n",
            "\n",
            "I am pranavi and this is my telephone number 09876\n",
            "\n",
            "I am pramodh and this is my telephone number 7\n",
            "\n",
            "I am Domni and this is my telephone number 783(6)66-9780\n",
            "\n",
            "\n",
            "\n",
            "\n",
            "\n",
            "\n",
            "['(999) 456-7890', '456-786-7790', '(983) 556-9890', '783-666-9780']\n"
          ]
        }
      ],
      "source": [
        "# 9\n",
        "try:\n",
        "  with open('/content/telephoneNumbers.txt') as f:\n",
        "    file_content = f.read()\n",
        "  print(file_content)\n",
        "  pattern='\\(\\d{3}\\) \\d{3}-\\d{4}|\\d{3}-\\d{3}-\\d{4}'\n",
        "  import re\n",
        "  print(re.findall(pattern,file_content))\n",
        "except:\n",
        "  print(\"error in accessing file\")"
      ]
    },
    {
      "cell_type": "code",
      "execution_count": 50,
      "metadata": {
        "colab": {
          "base_uri": "https://localhost:8080/"
        },
        "id": "sDFcj1IJFXDo",
        "outputId": "629fe471-1a58-47c3-8991-b5ab2dc1277c"
      },
      "outputs": [
        {
          "name": "stdout",
          "output_type": "stream",
          "text": [
            "John Deo:john@example.com\n",
            "Verma:verma09@example.com\n",
            "Daniel:daniel@example.com\n"
          ]
        }
      ],
      "source": [
        "# 10\n",
        "l=[('John Deo','john@example.com'),('John Deo','john@example.com'),('Daniel','daniel@example.com'),('Verma','verma09@example.com'),('Verma','verma09@example.com')]\n",
        "newList=set(l)\n",
        "for (name,mail) in newList:\n",
        "  print(name,mail,sep=':')"
      ]
    },
    {
      "cell_type": "code",
      "execution_count": 51,
      "metadata": {
        "colab": {
          "base_uri": "https://localhost:8080/"
        },
        "id": "MtwsQ5lyFkje",
        "outputId": "eebaee05-21c7-4e7a-c5a5-a12fc9d182df"
      },
      "outputs": [
        {
          "name": "stdout",
          "output_type": "stream",
          "text": [
            "    prodId       name  qualtity_avaliable\n",
            "0    102.0  Product A                10.0\n",
            "1    101.0  Product B                11.0\n",
            "2    109.0  Product C                 2.0\n",
            "3    105.0  Product D                 3.0\n",
            "4    103.0  Product E                 0.0\n",
            "5    106.0  Product F                 7.0\n",
            "6    107.0  Product G                56.0\n",
            "7    105.0  Product H                44.0\n",
            "8    108.0  Product I                 2.0\n",
            "9    104.0  Product J                 9.0\n",
            "10   110.0  Product K                78.0\n",
            "11     NaN  Product Z                 1.0\n",
            "12   111.0        NaN                 NaN\n",
            "13   123.0  Product R                 NaN\n",
            "14   459.0        NaN                62.0\n",
            "15     NaN        NaN                 5.0\n",
            "16     NaN  Product Y                 NaN\n",
            "17     NaN  Product L                14.0\n",
            "    prodId       name  qualtity_avaliable\n",
            "0    102.0  Product A                10.0\n",
            "1    101.0  Product B                11.0\n",
            "2    109.0  Product C                 2.0\n",
            "3    105.0  Product D                 3.0\n",
            "4    103.0  Product E                 0.0\n",
            "5    106.0  Product F                 7.0\n",
            "6    107.0  Product G                56.0\n",
            "7    105.0  Product H                44.0\n",
            "8    108.0  Product I                 2.0\n",
            "9    104.0  Product J                 9.0\n",
            "10   110.0  Product K                78.0\n",
            "['Product C', 'Product D', 'Product E', 'Product F', 'Product I', 'Product J']\n"
          ]
        }
      ],
      "source": [
        "# 11\n",
        "import pandas as pd\n",
        "try:\n",
        "  data=pd.read_csv('/content/products.csv')\n",
        "  print(data)\n",
        "  data.dropna(inplace=True)\n",
        "  print(data)\n",
        "  l=[]\n",
        "  for index,item in data.iterrows():\n",
        "    if item['qualtity_avaliable']<10:\n",
        "      l.append(item['name'])\n",
        "  print(l)\n",
        "except:\n",
        "  print(\"error in accessing file\")"
      ]
    },
    {
      "cell_type": "code",
      "execution_count": 52,
      "metadata": {
        "colab": {
          "base_uri": "https://localhost:8080/"
        },
        "id": "xtdhGJiEGXPA",
        "outputId": "79c5a88c-8ac4-4315-9445-d0c88613ae7e"
      },
      "outputs": [
        {
          "name": "stdout",
          "output_type": "stream",
          "text": [
            "Requirement already satisfied: numpy in /usr/local/lib/python3.10/dist-packages (1.26.4)\n"
          ]
        }
      ],
      "source": [
        "pip install numpy"
      ]
    },
    {
      "cell_type": "code",
      "execution_count": 53,
      "metadata": {
        "colab": {
          "base_uri": "https://localhost:8080/"
        },
        "id": "QyioVp0-K4pj",
        "outputId": "ae4b1cf3-4cff-40f7-c73b-8109be12f0a7"
      },
      "outputs": [
        {
          "name": "stdout",
          "output_type": "stream",
          "text": [
            "mean of scores is :  45.92307692307692\n",
            "median of scores is :  44.0\n",
            "variance of scores is :  795.7633136094674\n",
            "standard deviation of scores is :  28.209277084134353\n"
          ]
        }
      ],
      "source": [
        "# 12\n",
        "import numpy as np\n",
        "scores=[42,44,58,90,11,23,45,67,78,33,12,4,90]\n",
        "print(\"mean of scores is : \",np.mean(scores))\n",
        "print(\"median of scores is : \",np.median(scores))\n",
        "print(\"variance of scores is : \",np.var(scores))\n",
        "print(\"standard deviation of scores is : \",np.std(scores))"
      ]
    },
    {
      "cell_type": "code",
      "execution_count": 5,
      "metadata": {
        "colab": {
          "base_uri": "https://localhost:8080/"
        },
        "id": "fnwMDuTyR80t",
        "outputId": "1ab9b15c-e87e-4f76-dce4-a62ce47d06d8"
      },
      "outputs": [
        {
          "name": "stdout",
          "output_type": "stream",
          "text": [
            "1.Add Task\n",
            "2.Delete Task\n",
            "3.Save Task\n",
            "4.Load Task\n",
            "5.Exit\n",
            "Enter your choice : 1\n",
            "Enter task : reading book\n",
            "successfully added task\n",
            "1.Add Task\n",
            "2.Delete Task\n",
            "3.Save Task\n",
            "4.Load Task\n",
            "5.Exit\n",
            "Enter your choice : 1\n",
            "Enter task : play games\n",
            "successfully added task\n",
            "1.Add Task\n",
            "2.Delete Task\n",
            "3.Save Task\n",
            "4.Load Task\n",
            "5.Exit\n",
            "Enter your choice : 1\n",
            "Enter task : eat food\n",
            "successfully added task\n",
            "1.Add Task\n",
            "2.Delete Task\n",
            "3.Save Task\n",
            "4.Load Task\n",
            "5.Exit\n",
            "Enter your choice : 3\n",
            "File saved successfully\n",
            "1.Add Task\n",
            "2.Delete Task\n",
            "3.Save Task\n",
            "4.Load Task\n",
            "5.Exit\n",
            "Enter your choice : 4\n",
            "File loaded successfully\n",
            "['reading book', 'play games', 'eat food']\n",
            "1.Add Task\n",
            "2.Delete Task\n",
            "3.Save Task\n",
            "4.Load Task\n",
            "5.Exit\n",
            "Enter your choice : 2\n",
            "Enter task : play games\n",
            "successfully deleted task\n",
            "1.Add Task\n",
            "2.Delete Task\n",
            "3.Save Task\n",
            "4.Load Task\n",
            "5.Exit\n",
            "Enter your choice : 3\n",
            "File saved successfully\n",
            "1.Add Task\n",
            "2.Delete Task\n",
            "3.Save Task\n",
            "4.Load Task\n",
            "5.Exit\n",
            "Enter your choice : 4\n",
            "File loaded successfully\n",
            "['reading book', 'eat food']\n",
            "1.Add Task\n",
            "2.Delete Task\n",
            "3.Save Task\n",
            "4.Load Task\n",
            "5.Exit\n",
            "Enter your choice : 5\n",
            "Exit\n"
          ]
        }
      ],
      "source": [
        "# 13\n",
        "import pickle\n",
        "class TodoList:\n",
        "  def __init__(self):\n",
        "    self.task=[]\n",
        "  def addTask(self,addTask):\n",
        "    self.task.append(addTask)\n",
        "    print(\"successfully added task\")\n",
        "  def deleteTask(self,delTask):\n",
        "    if delTask in self.task:\n",
        "      self.task.remove(delTask)\n",
        "      print(\"successfully deleted task\")\n",
        "    else:\n",
        "      print(\"task not found\")\n",
        "  def saveTasks(self,prefFile='ToDoList.pkl'):\n",
        "    try:\n",
        "      with open(prefFile,'wb') as file:\n",
        "        pickle.dump(self.task,file)\n",
        "        print(\"File saved successfully\")\n",
        "    except:\n",
        "      print(\"Some error in accessing file\")\n",
        "  def loadTasks(seealf,prefFile='ToDoList.pkl'):\n",
        "    try:\n",
        "      with open(prefFile,'rb') as file:\n",
        "        loadedPref=pickle.load(file)\n",
        "        print(\"File loaded successfully\")\n",
        "      print(loadedPref)\n",
        "    except:\n",
        "      print(\"Some error in accessing file\")\n",
        "todo=TodoList()\n",
        "while True:\n",
        "  print(\"1.Add Task\")\n",
        "  print(\"2.Delete Task\")\n",
        "  print(\"3.Save Task\")\n",
        "  print(\"4.Load Task\")\n",
        "  print(\"5.Exit\")\n",
        "  choice=int(input(\"Enter your choice : \"))\n",
        "  if choice==1:\n",
        "    task=input(\"Enter task : \")\n",
        "    todo.addTask(task)\n",
        "  elif choice==2:\n",
        "    task=input(\"Enter task : \")\n",
        "    todo.deleteTask(task)\n",
        "  elif choice == 3:\n",
        "    todo.saveTasks()\n",
        "  elif choice ==4:\n",
        "    todo.loadTasks()\n",
        "  elif choice==5:\n",
        "    print(\"Exit\")\n",
        "    break\n",
        "  else:\n",
        "    print(\"Invalid.\")"
      ]
    },
    {
      "cell_type": "code",
      "execution_count": 12,
      "metadata": {
        "colab": {
          "base_uri": "https://localhost:8080/"
        },
        "id": "ly1jPNW2TdvC",
        "outputId": "1202a564-dde6-4442-862e-d6d667a8b2db"
      },
      "outputs": [
        {
          "name": "stdout",
          "output_type": "stream",
          "text": [
            "['#Puppy3', '#anycharacter', '#doggs', '#happy5']\n"
          ]
        }
      ],
      "source": [
        "# 14\n",
        "text='this is my dogg #happy5 cute #Puppy3 #anycharacter 5yes fellow#doggs'\n",
        "pattern='#\\w+'\n",
        "import re\n",
        "res=re.findall(pattern,text)\n",
        "res.sort()\n",
        "print(res)"
      ]
    }
  ],
  "metadata": {
    "colab": {
      "provenance": []
    },
    "kernelspec": {
      "display_name": "Python 3",
      "name": "python3"
    },
    "language_info": {
      "name": "python"
    }
  },
  "nbformat": 4,
  "nbformat_minor": 0
}
